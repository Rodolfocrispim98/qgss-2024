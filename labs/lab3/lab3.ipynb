{
 "cells": [
  {
   "cell_type": "markdown",
   "id": "d601aca4-74ff-4577-9737-327272482967",
   "metadata": {},
   "source": [
    "# IBM's Qiskit Global Summer School 2024\n",
    "\n",
    "## Lab 3 - Quantum Error Suppression and Mitigation with Qiskit Runtime"
   ]
  },
  {
   "cell_type": "markdown",
   "id": "43414819-8f0d-4a45-a17b-3eeadf5ee0c5",
   "metadata": {},
   "source": [
    "In this lab, you will explore the error suppression and error mitigation options available with the Estimator primitive from Qiskit Runtime. You will construct a circuit and observables and submit jobs using the Estimator primitive using different combinations of error mitigation settings. Then, you will plot the results to observe the effects of the various settings.\n",
    "\n",
    "These are the error suppression and mitigation options you will use:\n",
    "\n",
    "- Dynamical decoupling\n",
    "- Measurement error mitigation\n",
    "- Gate twirling\n",
    "- Zero noise extrapolation (ZNE)"
   ]
  },
  {
   "cell_type": "markdown",
   "id": "8662873e-82a6-4b54-8e53-8681ec46c7e9",
   "metadata": {},
   "source": [
    "### Quantum problem (circuit and observables)"
   ]
  },
  {
   "cell_type": "markdown",
   "id": "f2cd771c-c282-4275-861e-97a1106c2fb5",
   "metadata": {},
   "source": [
    "#### Circuit"
   ]
  },
  {
   "cell_type": "markdown",
   "id": "d5907436-e58d-429e-ad17-c05732147432",
   "metadata": {},
   "source": [
    "This lab uses the [`EfficientSU2`](https://docs.quantum.ibm.com/api/qiskit/qiskit.circuit.library.EfficientSU2) circuit included in Qiskit's circuit library.\n",
    "\n",
    "EfficientSU2 is a parameterized quantum circuit designed to be efficiently executable on quantum hardware with limited qubit connectivity, while still being expressive enough to solve problems in application domains like optimization and chemistry. It is built by alternating layers of parameterized single-qubit gates with a layer containing a fixed pattern of two-qubit gates, for a chosen number of repetitions. The pattern of two-qubit gates can be specified by the user. Here you can use the built-in pairwise pattern because it minimizes the circuit depth by packing the two-qubit gates as densely as possible."
   ]
  },
  {
   "cell_type": "code",
   "execution_count": 4,
   "id": "adcce344-f41c-444a-b23a-5a203a37f890",
   "metadata": {},
   "outputs": [],
   "source": [
    "from qiskit.circuit.library import EfficientSU2\n",
    "\n",
    "num_qubits = 50\n",
    "reps = 2\n",
    "abstract_circuit = EfficientSU2(num_qubits, reps=reps, entanglement=\"pairwise\")"
   ]
  },
  {
   "cell_type": "code",
   "execution_count": 5,
   "id": "44df88ab",
   "metadata": {},
   "outputs": [],
   "source": [
    "# abstract_circuit.draw(fold=-1, idle_wires=False)"
   ]
  },
  {
   "cell_type": "markdown",
   "id": "7b79227a-fa15-48f3-8e53-f80ac3dd5814",
   "metadata": {},
   "source": [
    "##### Assign parameters"
   ]
  },
  {
   "cell_type": "markdown",
   "id": "37351339-f1ca-4827-a693-5d4587dbe93f",
   "metadata": {},
   "source": [
    "Next, create some random parameters and assign them to the circuit."
   ]
  },
  {
   "cell_type": "code",
   "execution_count": 6,
   "id": "83e883bc-d145-478e-8ae7-6e20493cdf93",
   "metadata": {},
   "outputs": [],
   "source": [
    "import numpy as np\n",
    "\n",
    "num_parameters = abstract_circuit.num_parameters\n",
    "param_values = np.random.uniform(-np.pi, np.pi, size=num_parameters)\n",
    "\n",
    "abstract_circuit.assign_parameters(param_values, inplace=True)"
   ]
  },
  {
   "cell_type": "code",
   "execution_count": 7,
   "id": "a3261ed8",
   "metadata": {},
   "outputs": [],
   "source": [
    "# abstract_circuit.decompose().draw(fold=-1)"
   ]
  },
  {
   "cell_type": "markdown",
   "id": "424f2a73-ff72-4548-b007-ef233ecb39c8",
   "metadata": {},
   "source": [
    "##### Append uncompute block"
   ]
  },
  {
   "cell_type": "markdown",
   "id": "c7bfc6a4-45ff-4638-b854-fe0f7c0c238f",
   "metadata": {},
   "source": [
    "At the end of the lab, you want to compare the output of the quantum computer with the ideal answer. For small quantum circuits you can calculate this value by simulating the circuit on a classical computer, but this is not possible for larger, utility-scale circuits. You can work around this issue with the \"mirror circuit\" technique (also known as \"compute-uncompute\"), which is useful for benchmarking the performance of quantum devices.\n",
    "\n",
    "In the mirror circuit technique, you concatenate the circuit with its inverse, which is formed by inverting each gate of the circuit in reverse order. The resulting circuit implements the identity operator, which can trivially be simulated. Because the structure of the original circuit is preserved in the mirror circuit, executing the mirror circuit still gives an idea of how the quantum device would perform on the original circuit.\n",
    "\n",
    "The following code cell constructs the mirror circuit using the [`UnitaryOverlap`](https://docs.quantum.ibm.com/api/qiskit/qiskit.circuit.library.UnitaryOverlap) class from Qiskit's circuit library. Before mirroring the circuit, append a barrier instruction to it to prevent the transpiler from merging the two parts of the circuit on either side of the barrier. Without the barrier, the transpiler would merge the original circuit with its inverse, resulting in a transpiled circuit without any gates."
   ]
  },
  {
   "cell_type": "code",
   "execution_count": 8,
   "id": "d2f6a853-e23c-4b5f-8f53-a525ba110932",
   "metadata": {},
   "outputs": [],
   "source": [
    "from qiskit.circuit.library import UnitaryOverlap\n",
    "\n",
    "abstract_circuit.barrier()\n",
    "abstract_circuit = UnitaryOverlap(abstract_circuit, abstract_circuit)"
   ]
  },
  {
   "cell_type": "code",
   "execution_count": 9,
   "id": "663dc2a7",
   "metadata": {},
   "outputs": [],
   "source": [
    "# abstract_circuit.draw(fold=-1, idle_wires=False)\n",
    "num_qubits_small = 10\n",
    "abstract_circuit_small = EfficientSU2(num_qubits_small, reps=reps, entanglement=\"pairwise\")"
   ]
  },
  {
   "cell_type": "code",
   "execution_count": 10,
   "id": "198998ff",
   "metadata": {},
   "outputs": [],
   "source": [
    "num_parameters_small = abstract_circuit_small.num_parameters\n",
    "param_values_small = np.random.uniform(-np.pi, np.pi, size=num_parameters_small)\n",
    "\n",
    "abstract_circuit_small.assign_parameters(param_values_small, inplace=True)\n",
    "# print(num_parameters_small)\n",
    "# print(param_values_small)\n",
    "\n",
    "abstract_circuit_small.barrier()\n",
    "abstract_circuit_small = UnitaryOverlap(abstract_circuit_small, abstract_circuit_small)\n"
   ]
  },
  {
   "cell_type": "code",
   "execution_count": 11,
   "id": "cc8f10f4",
   "metadata": {},
   "outputs": [
    {
     "data": {
      "text/html": [
       "<pre style=\"word-wrap: normal;white-space: pre;background: #fff0;line-height: 1.1;font-family: &quot;Courier New&quot;,Courier,monospace\">      ┌────────────┐  ┌───────────┐        ┌────────────┐ ┌────────────┐                      ┌──────────────┐┌──────────────┐                 ░  ░ ┌─────────────┐┌─────────────┐           ┌─────────────┐ ┌─────────────┐            ┌────────────┐  ┌───────────┐  \n",
       "q_0: ─┤ Ry(-2.401) ├──┤ Rz(1.975) ├────■───┤ Ry(1.9613) ├─┤ Rz(1.0404) ├───────────────────■──┤ Ry(-0.69092) ├┤ Rz(-0.99277) ├─────────────────░──░─┤ Rz(0.99277) ├┤ Ry(0.69092) ├────────■──┤ Rz(-1.0404) ├─┤ Ry(-1.9613) ├────────■───┤ Rz(-1.975) ├──┤ Ry(2.401) ├──\n",
       "     ┌┴────────────┤  ├───────────┴┐ ┌─┴─┐ └────────────┘ ├────────────┤ ┌─────────────┐ ┌─┴─┐└──────────────┘├─────────────┬┘ ┌────────────┐  ░  ░ ├─────────────┤├─────────────┴┐     ┌─┴─┐└┬────────────┤ ├─────────────┤      ┌─┴─┐┌┴────────────┤  ├───────────┴┐ \n",
       "q_1: ┤ Ry(-2.2657) ├──┤ Rz(1.0036) ├─┤ X ├───────■────────┤ Ry(3.0716) ├─┤ Rz(-1.3909) ├─┤ X ├───────■────────┤ Ry(0.88819) ├──┤ Rz(2.4368) ├──░──░─┤ Rz(-2.4368) ├┤ Ry(-0.88819) ├──■──┤ X ├─┤ Rz(1.3909) ├─┤ Ry(-3.0716) ├───■──┤ X ├┤ Rz(-1.0036) ├──┤ Ry(2.2657) ├─\n",
       "     └┬────────────┤  ├────────────┤ └───┘     ┌─┴─┐     ┌┴────────────┴┐├─────────────┤ └───┘     ┌─┴─┐      ├─────────────┤ ┌┴────────────┴┐ ░  ░ ├─────────────┤└┬────────────┬┘┌─┴─┐└───┘┌┴────────────┴┐├─────────────┤ ┌─┴─┐└───┘├─────────────┤ ┌┴────────────┤ \n",
       "q_2: ─┤ Ry(3.1037) ├──┤ Rz(1.5667) ├───■───────┤ X ├─────┤ Ry(-0.35761) ├┤ Rz(0.79766) ├───■───────┤ X ├──────┤ Ry(-1.6723) ├─┤ Rz(-0.84405) ├─░──░─┤ Rz(0.84405) ├─┤ Ry(1.6723) ├─┤ X ├──■──┤ Rz(-0.79766) ├┤ Ry(0.35761) ├─┤ X ├──■──┤ Rz(-1.5667) ├─┤ Ry(-3.1037) ├─\n",
       "     ┌┴────────────┴┐ ├────────────┤ ┌─┴─┐     └───┘     └┬────────────┬┘├─────────────┤ ┌─┴─┐     └───┘      ├─────────────┤ ├─────────────┬┘ ░  ░ └┬────────────┤ ├────────────┤ └───┘┌─┴─┐└┬────────────┬┘├─────────────┤ └───┘┌─┴─┐├─────────────┤ ├─────────────┤ \n",
       "q_3: ┤ Ry(-0.75396) ├─┤ Rz(1.7633) ├─┤ X ├───────■────────┤ Ry(2.0518) ├─┤ Rz(-2.8498) ├─┤ X ├───────■────────┤ Ry(-2.7748) ├─┤ Rz(-2.0176) ├──░──░──┤ Rz(2.0176) ├─┤ Ry(2.7748) ├───■──┤ X ├─┤ Rz(2.8498) ├─┤ Ry(-2.0518) ├───■──┤ X ├┤ Rz(-1.7633) ├─┤ Ry(0.75396) ├─\n",
       "     ├─────────────┬┘ ├────────────┤ └───┘     ┌─┴─┐      ├────────────┤ ├─────────────┤ └───┘     ┌─┴─┐      ├─────────────┤ ├─────────────┴┐ ░  ░ ┌┴────────────┤ ├────────────┤ ┌─┴─┐└───┘ ├────────────┤ ├─────────────┤ ┌─┴─┐└───┘├─────────────┤ ├─────────────┴┐\n",
       "q_4: ┤ Ry(0.11257) ├──┤ Rz(1.6157) ├───■───────┤ X ├──────┤ Ry(2.1448) ├─┤ Rz(-1.9359) ├───■───────┤ X ├──────┤ Ry(-2.6449) ├─┤ Rz(-0.18819) ├─░──░─┤ Rz(0.18819) ├─┤ Ry(2.6449) ├─┤ X ├──■───┤ Rz(1.9359) ├─┤ Ry(-2.1448) ├─┤ X ├──■──┤ Rz(-1.6157) ├─┤ Ry(-0.11257) ├\n",
       "     └┬────────────┤ ┌┴────────────┤ ┌─┴─┐     └───┘      ├────────────┤ ├─────────────┴┐┌─┴─┐     └───┘      ├─────────────┤ ├─────────────┬┘ ░  ░ └┬────────────┤┌┴────────────┴┐└───┘┌─┴─┐┌┴────────────┤ ├─────────────┤ └───┘┌─┴─┐└┬────────────┤ ├─────────────┬┘\n",
       "q_5: ─┤ Ry(1.4143) ├─┤ Rz(-1.8922) ├─┤ X ├───────■────────┤ Ry(1.4885) ├─┤ Rz(-0.15693) ├┤ X ├───────■────────┤ Ry(0.47663) ├─┤ Rz(-1.0534) ├──░──░──┤ Rz(1.0534) ├┤ Ry(-0.47663) ├──■──┤ X ├┤ Rz(0.15693) ├─┤ Ry(-1.4885) ├───■──┤ X ├─┤ Rz(1.8922) ├─┤ Ry(-1.4143) ├─\n",
       "     ┌┴────────────┴┐├─────────────┴┐└───┘     ┌─┴─┐      ├────────────┤ ├──────────────┤└───┘     ┌─┴─┐      └┬────────────┤ └┬────────────┤  ░  ░ ┌┴────────────┤├─────────────┬┘┌─┴─┐└───┘├─────────────┤ └┬───────────┬┘ ┌─┴─┐└───┘┌┴────────────┤ ├─────────────┤ \n",
       "q_6: ┤ Ry(-0.45434) ├┤ Rz(-0.26967) ├──■───────┤ X ├──────┤ Ry(-3.083) ├─┤ Rz(-0.18984) ├──■───────┤ X ├───────┤ Ry(1.0985) ├──┤ Rz(2.9326) ├──░──░─┤ Rz(-2.9326) ├┤ Ry(-1.0985) ├─┤ X ├──■──┤ Rz(0.18984) ├──┤ Ry(3.083) ├──┤ X ├──■──┤ Rz(0.26967) ├─┤ Ry(0.45434) ├─\n",
       "     ├─────────────┬┘└┬────────────┬┘┌─┴─┐     └───┘     ┌┴────────────┴┐├──────────────┤┌─┴─┐     └───┘      ┌┴────────────┤ ┌┴────────────┴┐ ░  ░ ├─────────────┤└┬────────────┤ └───┘┌─┴─┐├─────────────┤ ┌┴───────────┴┐ └───┘┌─┴─┐├─────────────┤ └┬────────────┤ \n",
       "q_7: ┤ Ry(-2.8586) ├──┤ Rz(1.0048) ├─┤ X ├───────■───────┤ Ry(-0.49863) ├┤ Rz(-0.24075) ├┤ X ├───────■────────┤ Ry(-2.4246) ├─┤ Rz(-0.85623) ├─░──░─┤ Rz(0.85623) ├─┤ Ry(2.4246) ├───■──┤ X ├┤ Rz(0.24075) ├─┤ Ry(0.49863) ├───■──┤ X ├┤ Rz(-1.0048) ├──┤ Ry(2.8586) ├─\n",
       "     ├─────────────┤  ├────────────┤ └───┘     ┌─┴─┐     ├─────────────┬┘├─────────────┬┘└───┘     ┌─┴─┐      └┬────────────┤ └┬────────────┬┘ ░  ░ ├─────────────┤┌┴────────────┤ ┌─┴─┐└───┘├─────────────┴┐├─────────────┴┐┌─┴─┐└───┘├─────────────┤  ├────────────┤ \n",
       "q_8: ┤ Ry(-1.9856) ├──┤ Rz(1.3823) ├───■───────┤ X ├─────┤ Ry(0.52077) ├─┤ Rz(0.99293) ├───■───────┤ X ├───────┤ Ry(2.7131) ├──┤ Rz(1.2779) ├──░──░─┤ Rz(-1.2779) ├┤ Ry(-2.7131) ├─┤ X ├──■──┤ Rz(-0.99293) ├┤ Ry(-0.52077) ├┤ X ├──■──┤ Rz(-1.3823) ├──┤ Ry(1.9856) ├─\n",
       "     ├─────────────┤ ┌┴────────────┤ ┌─┴─┐┌────┴───┴────┐└┬────────────┤ └─────────────┘ ┌─┴─┐┌────┴───┴────┐  ├────────────┤  └────────────┘  ░  ░ ├─────────────┤├─────────────┴┐└───┘┌─┴─┐├─────────────┬┘├──────────────┤└───┘┌─┴─┐├─────────────┴┐ ├────────────┤ \n",
       "q_9: ┤ Ry(-0.2219) ├─┤ Rz(0.96921) ├─┤ X ├┤ Ry(0.66908) ├─┤ Rz(2.6779) ├─────────────────┤ X ├┤ Ry(0.41805) ├──┤ Rz(1.4774) ├──────────────────░──░─┤ Rz(-1.4774) ├┤ Ry(-0.41805) ├─────┤ X ├┤ Rz(-2.6779) ├─┤ Ry(-0.66908) ├─────┤ X ├┤ Rz(-0.96921) ├─┤ Ry(0.2219) ├─\n",
       "     └─────────────┘ └─────────────┘ └───┘└─────────────┘ └────────────┘                 └───┘└─────────────┘  └────────────┘                  ░  ░ └─────────────┘└──────────────┘     └───┘└─────────────┘ └──────────────┘     └───┘└──────────────┘ └────────────┘ </pre>"
      ],
      "text/plain": [
       "      ┌────────────┐  ┌───────────┐        ┌────────────┐ ┌────────────┐                      ┌──────────────┐┌──────────────┐                 ░  ░ ┌─────────────┐┌─────────────┐           ┌─────────────┐ ┌─────────────┐            ┌────────────┐  ┌───────────┐  \n",
       "q_0: ─┤ Ry(-2.401) ├──┤ Rz(1.975) ├────■───┤ Ry(1.9613) ├─┤ Rz(1.0404) ├───────────────────■──┤ Ry(-0.69092) ├┤ Rz(-0.99277) ├─────────────────░──░─┤ Rz(0.99277) ├┤ Ry(0.69092) ├────────■──┤ Rz(-1.0404) ├─┤ Ry(-1.9613) ├────────■───┤ Rz(-1.975) ├──┤ Ry(2.401) ├──\n",
       "     ┌┴────────────┤  ├───────────┴┐ ┌─┴─┐ └────────────┘ ├────────────┤ ┌─────────────┐ ┌─┴─┐└──────────────┘├─────────────┬┘ ┌────────────┐  ░  ░ ├─────────────┤├─────────────┴┐     ┌─┴─┐└┬────────────┤ ├─────────────┤      ┌─┴─┐┌┴────────────┤  ├───────────┴┐ \n",
       "q_1: ┤ Ry(-2.2657) ├──┤ Rz(1.0036) ├─┤ X ├───────■────────┤ Ry(3.0716) ├─┤ Rz(-1.3909) ├─┤ X ├───────■────────┤ Ry(0.88819) ├──┤ Rz(2.4368) ├──░──░─┤ Rz(-2.4368) ├┤ Ry(-0.88819) ├──■──┤ X ├─┤ Rz(1.3909) ├─┤ Ry(-3.0716) ├───■──┤ X ├┤ Rz(-1.0036) ├──┤ Ry(2.2657) ├─\n",
       "     └┬────────────┤  ├────────────┤ └───┘     ┌─┴─┐     ┌┴────────────┴┐├─────────────┤ └───┘     ┌─┴─┐      ├─────────────┤ ┌┴────────────┴┐ ░  ░ ├─────────────┤└┬────────────┬┘┌─┴─┐└───┘┌┴────────────┴┐├─────────────┤ ┌─┴─┐└───┘├─────────────┤ ┌┴────────────┤ \n",
       "q_2: ─┤ Ry(3.1037) ├──┤ Rz(1.5667) ├───■───────┤ X ├─────┤ Ry(-0.35761) ├┤ Rz(0.79766) ├───■───────┤ X ├──────┤ Ry(-1.6723) ├─┤ Rz(-0.84405) ├─░──░─┤ Rz(0.84405) ├─┤ Ry(1.6723) ├─┤ X ├──■──┤ Rz(-0.79766) ├┤ Ry(0.35761) ├─┤ X ├──■──┤ Rz(-1.5667) ├─┤ Ry(-3.1037) ├─\n",
       "     ┌┴────────────┴┐ ├────────────┤ ┌─┴─┐     └───┘     └┬────────────┬┘├─────────────┤ ┌─┴─┐     └───┘      ├─────────────┤ ├─────────────┬┘ ░  ░ └┬────────────┤ ├────────────┤ └───┘┌─┴─┐└┬────────────┬┘├─────────────┤ └───┘┌─┴─┐├─────────────┤ ├─────────────┤ \n",
       "q_3: ┤ Ry(-0.75396) ├─┤ Rz(1.7633) ├─┤ X ├───────■────────┤ Ry(2.0518) ├─┤ Rz(-2.8498) ├─┤ X ├───────■────────┤ Ry(-2.7748) ├─┤ Rz(-2.0176) ├──░──░──┤ Rz(2.0176) ├─┤ Ry(2.7748) ├───■──┤ X ├─┤ Rz(2.8498) ├─┤ Ry(-2.0518) ├───■──┤ X ├┤ Rz(-1.7633) ├─┤ Ry(0.75396) ├─\n",
       "     ├─────────────┬┘ ├────────────┤ └───┘     ┌─┴─┐      ├────────────┤ ├─────────────┤ └───┘     ┌─┴─┐      ├─────────────┤ ├─────────────┴┐ ░  ░ ┌┴────────────┤ ├────────────┤ ┌─┴─┐└───┘ ├────────────┤ ├─────────────┤ ┌─┴─┐└───┘├─────────────┤ ├─────────────┴┐\n",
       "q_4: ┤ Ry(0.11257) ├──┤ Rz(1.6157) ├───■───────┤ X ├──────┤ Ry(2.1448) ├─┤ Rz(-1.9359) ├───■───────┤ X ├──────┤ Ry(-2.6449) ├─┤ Rz(-0.18819) ├─░──░─┤ Rz(0.18819) ├─┤ Ry(2.6449) ├─┤ X ├──■───┤ Rz(1.9359) ├─┤ Ry(-2.1448) ├─┤ X ├──■──┤ Rz(-1.6157) ├─┤ Ry(-0.11257) ├\n",
       "     └┬────────────┤ ┌┴────────────┤ ┌─┴─┐     └───┘      ├────────────┤ ├─────────────┴┐┌─┴─┐     └───┘      ├─────────────┤ ├─────────────┬┘ ░  ░ └┬────────────┤┌┴────────────┴┐└───┘┌─┴─┐┌┴────────────┤ ├─────────────┤ └───┘┌─┴─┐└┬────────────┤ ├─────────────┬┘\n",
       "q_5: ─┤ Ry(1.4143) ├─┤ Rz(-1.8922) ├─┤ X ├───────■────────┤ Ry(1.4885) ├─┤ Rz(-0.15693) ├┤ X ├───────■────────┤ Ry(0.47663) ├─┤ Rz(-1.0534) ├──░──░──┤ Rz(1.0534) ├┤ Ry(-0.47663) ├──■──┤ X ├┤ Rz(0.15693) ├─┤ Ry(-1.4885) ├───■──┤ X ├─┤ Rz(1.8922) ├─┤ Ry(-1.4143) ├─\n",
       "     ┌┴────────────┴┐├─────────────┴┐└───┘     ┌─┴─┐      ├────────────┤ ├──────────────┤└───┘     ┌─┴─┐      └┬────────────┤ └┬────────────┤  ░  ░ ┌┴────────────┤├─────────────┬┘┌─┴─┐└───┘├─────────────┤ └┬───────────┬┘ ┌─┴─┐└───┘┌┴────────────┤ ├─────────────┤ \n",
       "q_6: ┤ Ry(-0.45434) ├┤ Rz(-0.26967) ├──■───────┤ X ├──────┤ Ry(-3.083) ├─┤ Rz(-0.18984) ├──■───────┤ X ├───────┤ Ry(1.0985) ├──┤ Rz(2.9326) ├──░──░─┤ Rz(-2.9326) ├┤ Ry(-1.0985) ├─┤ X ├──■──┤ Rz(0.18984) ├──┤ Ry(3.083) ├──┤ X ├──■──┤ Rz(0.26967) ├─┤ Ry(0.45434) ├─\n",
       "     ├─────────────┬┘└┬────────────┬┘┌─┴─┐     └───┘     ┌┴────────────┴┐├──────────────┤┌─┴─┐     └───┘      ┌┴────────────┤ ┌┴────────────┴┐ ░  ░ ├─────────────┤└┬────────────┤ └───┘┌─┴─┐├─────────────┤ ┌┴───────────┴┐ └───┘┌─┴─┐├─────────────┤ └┬────────────┤ \n",
       "q_7: ┤ Ry(-2.8586) ├──┤ Rz(1.0048) ├─┤ X ├───────■───────┤ Ry(-0.49863) ├┤ Rz(-0.24075) ├┤ X ├───────■────────┤ Ry(-2.4246) ├─┤ Rz(-0.85623) ├─░──░─┤ Rz(0.85623) ├─┤ Ry(2.4246) ├───■──┤ X ├┤ Rz(0.24075) ├─┤ Ry(0.49863) ├───■──┤ X ├┤ Rz(-1.0048) ├──┤ Ry(2.8586) ├─\n",
       "     ├─────────────┤  ├────────────┤ └───┘     ┌─┴─┐     ├─────────────┬┘├─────────────┬┘└───┘     ┌─┴─┐      └┬────────────┤ └┬────────────┬┘ ░  ░ ├─────────────┤┌┴────────────┤ ┌─┴─┐└───┘├─────────────┴┐├─────────────┴┐┌─┴─┐└───┘├─────────────┤  ├────────────┤ \n",
       "q_8: ┤ Ry(-1.9856) ├──┤ Rz(1.3823) ├───■───────┤ X ├─────┤ Ry(0.52077) ├─┤ Rz(0.99293) ├───■───────┤ X ├───────┤ Ry(2.7131) ├──┤ Rz(1.2779) ├──░──░─┤ Rz(-1.2779) ├┤ Ry(-2.7131) ├─┤ X ├──■──┤ Rz(-0.99293) ├┤ Ry(-0.52077) ├┤ X ├──■──┤ Rz(-1.3823) ├──┤ Ry(1.9856) ├─\n",
       "     ├─────────────┤ ┌┴────────────┤ ┌─┴─┐┌────┴───┴────┐└┬────────────┤ └─────────────┘ ┌─┴─┐┌────┴───┴────┐  ├────────────┤  └────────────┘  ░  ░ ├─────────────┤├─────────────┴┐└───┘┌─┴─┐├─────────────┬┘├──────────────┤└───┘┌─┴─┐├─────────────┴┐ ├────────────┤ \n",
       "q_9: ┤ Ry(-0.2219) ├─┤ Rz(0.96921) ├─┤ X ├┤ Ry(0.66908) ├─┤ Rz(2.6779) ├─────────────────┤ X ├┤ Ry(0.41805) ├──┤ Rz(1.4774) ├──────────────────░──░─┤ Rz(-1.4774) ├┤ Ry(-0.41805) ├─────┤ X ├┤ Rz(-2.6779) ├─┤ Ry(-0.66908) ├─────┤ X ├┤ Rz(-0.96921) ├─┤ Ry(0.2219) ├─\n",
       "     └─────────────┘ └─────────────┘ └───┘└─────────────┘ └────────────┘                 └───┘└─────────────┘  └────────────┘                  ░  ░ └─────────────┘└──────────────┘     └───┘└─────────────┘ └──────────────┘     └───┘└──────────────┘ └────────────┘ "
      ]
     },
     "execution_count": 11,
     "metadata": {},
     "output_type": "execute_result"
    }
   ],
   "source": [
    "\n",
    "# abstract_circuit_small.draw(fold=-1, idle_wires=False)\n",
    "abstract_circuit_small.decompose().draw(fold=-1, idle_wires=False)\n"
   ]
  },
  {
   "cell_type": "markdown",
   "id": "4df05918",
   "metadata": {},
   "source": [
    "It is recommended to draw the circuit to visualize what you are going to run. However, a 50-qubit circuit may be too dense to visualize effectively. Therefore, create a smaller abstract circuit with 4 qubits by following the above steps (i.e., create a 4-qubit `EfficientSU2` circuit, assign parameters, and append uncomput block). Then, draw the circuit by following one of the [visualization techniques](https://docs.quantum.ibm.com/build/circuit-visualization). Note that the 4-qubit circuit is only for visualization. You must execute the 50-qubit circuit with error mitigation and suppression."
   ]
  },
  {
   "cell_type": "markdown",
   "id": "d7610c00-c613-42b9-8113-98b07566372d",
   "metadata": {},
   "source": [
    "#### Observables"
   ]
  },
  {
   "cell_type": "markdown",
   "id": "6e4638e9-4674-45df-970b-4ee41976fd1b",
   "metadata": {},
   "source": [
    "Next, define the observables. You will create weight-1 $\\langle Z_i \\rangle$ observables for each qubit in the circuit. Example: For a $4$-qubit abstract circuit, you will create $4$ observables each with a single $\\langle Z \\rangle$ acting on a different qubit, i.e., $IIIZ$, $IIZI$, $IZII$, and $ZIII$."
   ]
  },
  {
   "cell_type": "code",
   "execution_count": 12,
   "id": "4ce6d99c-cef8-4144-ab3a-62434f18b583",
   "metadata": {},
   "outputs": [],
   "source": [
    "from qiskit.quantum_info import SparsePauliOp\n",
    "\n",
    "paulis = [\"\".join(\"Z\" if i == q else \"I\" for i in range(num_qubits)) for q in range(num_qubits)]\n",
    "abstract_observables = [SparsePauliOp(pauli) for pauli in paulis]\n",
    "# print(abstract_observables)"
   ]
  },
  {
   "cell_type": "code",
   "execution_count": 13,
   "id": "52daae15",
   "metadata": {},
   "outputs": [
    {
     "name": "stdout",
     "output_type": "stream",
     "text": [
      "[SparsePauliOp(['ZIIIIIIIII'],\n",
      "              coeffs=[1.+0.j]), SparsePauliOp(['IZIIIIIIII'],\n",
      "              coeffs=[1.+0.j]), SparsePauliOp(['IIZIIIIIII'],\n",
      "              coeffs=[1.+0.j]), SparsePauliOp(['IIIZIIIIII'],\n",
      "              coeffs=[1.+0.j]), SparsePauliOp(['IIIIZIIIII'],\n",
      "              coeffs=[1.+0.j]), SparsePauliOp(['IIIIIZIIII'],\n",
      "              coeffs=[1.+0.j]), SparsePauliOp(['IIIIIIZIII'],\n",
      "              coeffs=[1.+0.j]), SparsePauliOp(['IIIIIIIZII'],\n",
      "              coeffs=[1.+0.j]), SparsePauliOp(['IIIIIIIIZI'],\n",
      "              coeffs=[1.+0.j]), SparsePauliOp(['IIIIIIIIIZ'],\n",
      "              coeffs=[1.+0.j])]\n"
     ]
    }
   ],
   "source": [
    "paulis_small = [\"\".join(\"Z\" if i == q else \"I\" for i in range(num_qubits_small)) for q in range(num_qubits_small)]\n",
    "abstract_observables_small = [SparsePauliOp(pauli) for pauli in paulis_small]\n",
    "print(abstract_observables_small)"
   ]
  },
  {
   "cell_type": "markdown",
   "id": "0245e086-c0f2-48b1-a8ea-7f2c8479e191",
   "metadata": {},
   "source": [
    "### Optimize"
   ]
  },
  {
   "cell_type": "markdown",
   "id": "864b7424-4c46-44e9-a76c-00c24732bcc0",
   "metadata": {},
   "source": [
    "You must optimize your circuit (and observables) and make them target hardware compatible before executing. You need to choose the hardware device to use before optimizing your circuit. The following code cell requests the least busy utility-scale device with at least 127 qubits."
   ]
  },
  {
   "cell_type": "code",
   "execution_count": 1,
   "id": "4ae2b894-cc8a-4cdd-99a8-271fdee5d3fb",
   "metadata": {},
   "outputs": [
    {
     "data": {
      "text/plain": [
       "'ibm_torino'"
      ]
     },
     "execution_count": 1,
     "metadata": {},
     "output_type": "execute_result"
    }
   ],
   "source": [
    "from qiskit_ibm_runtime import QiskitRuntimeService\n",
    "import os\n",
    "from dotenv import load_dotenv\n",
    "load_dotenv()\n",
    "########### TOKEN ##########\n",
    "token=os.getenv(\"API_KEY\")\n",
    "QiskitRuntimeService.save_account(channel=\"ibm_quantum\", token=token, overwrite=True)\n",
    "#####################\n",
    "service = QiskitRuntimeService()\n",
    "backend = service.least_busy(min_num_qubits=127)\n",
    "backend.name"
   ]
  },
  {
   "cell_type": "markdown",
   "id": "9a8e9161-0bf3-4eb7-9e47-0465bf4f4765",
   "metadata": {},
   "source": [
    "#### Target circuit"
   ]
  },
  {
   "cell_type": "markdown",
   "id": "526f28f9-e05f-4bfc-a686-da9f54dae4bd",
   "metadata": {},
   "source": [
    "Optimizing you circuit involves transpiling it for your chosen backend. You can transpile your circuit by creating a pass manager and then running the pass manager on the circuit. An easy way to create a pass manager is to use the [`generate_preset_pass_manager`](https://docs.quantum.ibm.com/api/qiskit/transpiler_preset#qiskit.transpiler.preset_passmanagers.generate_preset_pass_manager) function. You have learnt about transpilation and pass managers in an earlier lab."
   ]
  },
  {
   "cell_type": "code",
   "execution_count": 15,
   "id": "b3383a3f-33df-49ee-bbed-4d3b124ab06b",
   "metadata": {},
   "outputs": [],
   "source": [
    "from qiskit.transpiler.preset_passmanagers import generate_preset_pass_manager\n",
    "\n",
    "pm = generate_preset_pass_manager(backend=backend, optimization_level=3)\n",
    "target_circuit = pm.run(abstract_circuit)"
   ]
  },
  {
   "cell_type": "markdown",
   "id": "34d1a74c-d861-4596-87e0-4379231a0001",
   "metadata": {},
   "source": [
    "#### Target observables"
   ]
  },
  {
   "cell_type": "markdown",
   "id": "be3bf6d6-09ca-47fd-8191-88d1247de934",
   "metadata": {},
   "source": [
    "The transpilation process has mapped the virtual qubits of the abstract circuit to physical qubits on the hardware. The information about the qubit layout is stored in the layout attribute of the transpiled target circuit. The observables were defined in terms of the virtual qubits, so you need to apply this layout to the observables, which you can do with the [`apply_layout`](https://docs.quantum.ibm.com/api/qiskit/qiskit.quantum_info.SparsePauliOp#apply_layout) method of `SparsePauliOp`."
   ]
  },
  {
   "cell_type": "code",
   "execution_count": 16,
   "id": "0dffc766-c698-45c7-999b-215584d3c85c",
   "metadata": {},
   "outputs": [],
   "source": [
    "layout = target_circuit.layout\n",
    "target_observables = [abs_obs.apply_layout(layout=layout) for abs_obs in abstract_observables]"
   ]
  },
  {
   "cell_type": "markdown",
   "id": "a99266be-5f25-4078-8c7c-20dd7ba94119",
   "metadata": {},
   "source": [
    "### Execute\n",
    "(_Excercises_)"
   ]
  },
  {
   "cell_type": "markdown",
   "id": "e821a897-411e-4fad-9532-0b073355c414",
   "metadata": {},
   "source": [
    "Now, execute the target circuit and observables with different configurations of error suppression and mitigation from the `Estimator` primitive. You will perform **seven excercises** where you submit seven different jobs (each with same circuit and observables) with following settings.\n",
    "\n",
    "- **Excercise-1**: No suppression/mitigation (_worked out for reference_)\n",
    "- **Excercise-2**: Dynamical Decoupling\n",
    "- **Excercise-3**: Measurement Mitigation (TREX)\n",
    "- **Excercise-4**: Zero Noise Extrapolation (ZNE)\n",
    "   - _Excercise-4a_: ZNE (exponential extrapolator)\n",
    "   - _Excercise-4b_: ZNE (linear extrapolator)\n",
    "- **Excercise-5**: ZNE + Gate Twirling\n",
    "- **Excercise-6**: All\n",
    "\n",
    "You need to refer to Qiskit Runtime docs to successfully complete the excercises in this lab. Some helpful and necessary links are below:\n",
    "1. https://docs.quantum.ibm.com/run/error-mitigation-explanation\n",
    "2. https://docs.quantum.ibm.com/run/configure-error-mitigation\n",
    "3. https://docs.quantum.ibm.com/api/qiskit-ibm-runtime/options\n",
    "   - https://docs.quantum.ibm.com/api/qiskit-ibm-runtime/qiskit_ibm_runtime.options.EstimatorOptions\n",
    "   - https://docs.quantum.ibm.com/api/qiskit-ibm-runtime/qiskit_ibm_runtime.options.DynamicalDecouplingOptions\n",
    "   - https://docs.quantum.ibm.com/api/qiskit-ibm-runtime/qiskit_ibm_runtime.options.ResilienceOptionsV2\n",
    "   - https://docs.quantum.ibm.com/api/qiskit-ibm-runtime/qiskit_ibm_runtime.options.MeasureNoiseLearningOptions\n",
    "   - https://docs.quantum.ibm.com/api/qiskit-ibm-runtime/qiskit_ibm_runtime.options.TwirlingOptions\n",
    "   - https://docs.quantum.ibm.com/api/qiskit-ibm-runtime/qiskit_ibm_runtime.options.ZneOptions\n",
    "  \n",
    "Read the comments in the next code cell for deatils of each excercise and hints.\n",
    "\n",
    "**Note 1**\n",
    "\n",
    "Some suppression and mitigation options are enabled by default (e.g., measurement twirling is enabled by default). Therefore, if you want to selectively enable one or more options, inspect the default options first and explicitly disable unwanted options, if necessary.\n",
    "\n",
    "One way is to [turn off all mitigation and suppression first](https://docs.quantum.ibm.com/run/configure-error-mitigation#turn-off-all-error-mitigation-and-error-suppression), then selectively turn on your desired options.\n",
    "\n",
    "Also, refer to the [Qiskit Runtime API docs](https://docs.quantum.ibm.com/api/qiskit-ibm-runtime) for default options.\n",
    "\n",
    "**Note 2**\n",
    "\n",
    "It is recommended to submit multiple non-iterative jobs inside a [`Batch`](https://docs.quantum.ibm.com/api/qiskit-ibm-runtime/qiskit_ibm_runtime.Batch) [execution mode](https://docs.quantum.ibm.com/run/execution-modes) of Qiskit Runtime (See also [Run jobs in batch](https://docs.quantum.ibm.com/run/run-jobs-batch)) to leverage the parallelization offered by batch and minimize delay between jobs. For example, if you are an open plan users, you can submit $3$ jobs together in the `Batch` execution mode."
   ]
  },
  {
   "cell_type": "code",
   "execution_count": 17,
   "id": "5339ee18-2fc8-4b10-b5af-62c67ef642d7",
   "metadata": {},
   "outputs": [],
   "source": [
    "from qiskit_ibm_runtime import EstimatorV2 as Estimator, EstimatorOptions, Batch\n",
    "\n",
    "# Define the primitive unified bloc (PUB) for Estimator jobs\n",
    "# More on PUB: https://docs.quantum.ibm.com/api/qiskit/primitives\n",
    "pub = (target_circuit, target_observables)\n",
    "default_shots = 10_000\n",
    "\n",
    "# list for saving job results\n",
    "primitive_results = []\n",
    "\n",
    "# Submit Exercise 1 to 3 inside a Batch execution mode\n",
    "with Batch(backend=backend) as batch:\n",
    "    # Excercise-1: No mitigation (worked out for you)\n",
    "    ## https://docs.quantum.ibm.com/run/configure-error-mitigation#turn-off-all-error-mitigation-and-error-suppression\n",
    "    options_ex1 = EstimatorOptions() # some suppression and mitigation are enabled by default\n",
    "    options_ex1.optimization_level = 0\n",
    "    options_ex1.resilience_level = 0\n",
    "    options_ex1.default_shots = default_shots\n",
    "    \n",
    "    # Instantiate `Estimator` with options\n",
    "    estimator = Estimator(options=options_ex1)\n",
    "    # Submit job\n",
    "    job_ex1 = estimator.run(pubs=[pub])\n",
    "\n",
    "    \n",
    "    # Excercise-2: Dynamical Decoupling (DD)\n",
    "    options_ex2 = EstimatorOptions()\n",
    "    options_ex2.default_shots = default_shots\n",
    "    \"\"\"Your code goes here.\n",
    "        \n",
    "        Configure options to only enable DD with a 'XX' sequence.\n",
    "        \n",
    "        Hint: First, turn off all error suppression and mitigation. Then, turn on DD related options only.\n",
    "            1. https://docs.quantum.ibm.com/api/qiskit-ibm-runtime/qiskit_ibm_runtime.options.EstimatorOptions\n",
    "            2. https://docs.quantum.ibm.com/api/qiskit-ibm-runtime/qiskit_ibm_runtime.options.DynamicalDecouplingOptions\n",
    "            3. https://docs.quantum.ibm.com/run/error-mitigation-explanation#dynamical-decoupling\n",
    "    \"\"\"\n",
    "    options_ex2.dynamical_decoupling.enable = True\n",
    "    options_ex2.dynamical_decoupling.sequence_type = 'XX'\n",
    "    options_ex2.dynamical_decoupling.extra_slack_distribution = 'middle'\n",
    "    options_ex2.dynamical_decoupling.scheduling_method = 'alap'\n",
    "    estimator = Estimator(options=options_ex2)\n",
    "    job_ex2 = estimator.run(pubs=[pub])\n",
    "\n",
    "    \n",
    "    # Excercise-3: Measurement mitigation (TREX)\n",
    "    options_ex3 = EstimatorOptions()\n",
    "    options_ex3.default_shots = default_shots\n",
    "    \"\"\"Your code goes here.\n",
    "    \n",
    "        Configure options to enable measurement mitigation only.\n",
    "        \n",
    "        Hint:\n",
    "            1. https://docs.quantum.ibm.com/api/qiskit-ibm-runtime/qiskit_ibm_runtime.options.EstimatorOptions\n",
    "            2. https://docs.quantum.ibm.com/api/qiskit-ibm-runtime/qiskit_ibm_runtime.options.ResilienceOptionsV2\n",
    "            3. https://docs.quantum.ibm.com/api/qiskit-ibm-runtime/qiskit_ibm_runtime.options.TwirlingOptions\n",
    "            4. https://docs.quantum.ibm.com/run/configure-error-mitigation\n",
    "    \"\"\"\n",
    "    options_ex3.resilience.measure_mitigation = True\n",
    "    # options_ex3.twirling.enable_measure = True Automatically enabled\n",
    "    estimator = Estimator(options=options_ex3)\n",
    "    job_ex3 = estimator.run(pubs=[pub])\n",
    "\n",
    "# Wait for first 3 jobs to complete. Fetch results when done\n",
    "# primitive_results.append(job_ex1.result())\n",
    "# primitive_results.append(job_ex2.result())\n",
    "# primitive_results.append(job_ex3.result())\n",
    "\n",
    "# Submit Exercise 4a, 4b, and 5 inside another Batch execution mode\n",
    "with Batch(backend=backend) as batch:\n",
    "    # Excercise-4a: Zero Noise Extrapolation (extrapolator=\"exponential\" | noise_factors=(1, 3, 5))\n",
    "    options_ex4a = EstimatorOptions()\n",
    "    options_ex4a.default_shots = default_shots\n",
    "    \"\"\"Your code goes here.\n",
    "        \n",
    "        Configure options to only enable ZNE with the exponential extrapolator and default noise factors (1, 3, 5).\n",
    "        \n",
    "        Hint:\n",
    "            1. https://docs.quantum.ibm.com/api/qiskit-ibm-runtime/qiskit_ibm_runtime.options.EstimatorOptions\n",
    "            2. https://docs.quantum.ibm.com/api/qiskit-ibm-runtime/qiskit_ibm_runtime.options.ResilienceOptionsV2\n",
    "            3. https://docs.quantum.ibm.com/api/qiskit-ibm-runtime/qiskit_ibm_runtime.options.ZneOptions\n",
    "    \"\"\"\n",
    "    options_ex4a.resilience.zne_mitigation = True\n",
    "    options_ex4a.resilience.zne.noise_factors = (1, 3, 5)\n",
    "    options_ex4a.resilience.zne.extrapolator = \"exponential\"\n",
    "    \n",
    "    estimator = Estimator(options=options_ex4a)\n",
    "    job_ex4a = estimator.run(pubs=[pub])\n",
    "\n",
    "    \n",
    "    # Excercise-4b: Zero Noise Extrapolation (use: extrapolator=\"linear\" and noise_factors=(1, 3, 5))\n",
    "    options_ex4b = EstimatorOptions()\n",
    "    options_ex4b.default_shots = default_shots\n",
    "    \"\"\"Your code goes here.\n",
    "        \n",
    "        Configure options to only enable ZNE with the linear extrapolator and default noise factors (1, 3, 5).\n",
    "        \n",
    "        Hint:\n",
    "            1. https://docs.quantum.ibm.com/api/qiskit-ibm-runtime/qiskit_ibm_runtime.options.EstimatorOptions\n",
    "            2. https://docs.quantum.ibm.com/api/qiskit-ibm-runtime/qiskit_ibm_runtime.options.ResilienceOptionsV2\n",
    "            3. https://docs.quantum.ibm.com/api/qiskit-ibm-runtime/qiskit_ibm_runtime.options.ZneOptions\n",
    "    \"\"\"\n",
    "    options_ex4b.resilience.zne_mitigation = True\n",
    "    options_ex4b.resilience.zne.noise_factors = (1, 3, 5)\n",
    "    options_ex4b.resilience.zne.extrapolator = \"linear\"\n",
    "    estimator = Estimator(options=options_ex4b)\n",
    "    job_ex4b = estimator.run(pubs=[pub])\n",
    "\n",
    "    \n",
    "    # Excercise-5: Gate Twirling + Zero Noise Extrapolation (use: extrapolator=(\"exponential\", \"linear\") and noise_factors=(1, 3, 5))\n",
    "    options_ex5 = EstimatorOptions()\n",
    "    options_ex5.default_shots = default_shots\n",
    "    \"\"\"Your code goes here.\n",
    "    \n",
    "        Configure options to enable gate twirling and ZNE.\n",
    "        Instead of a single extrapolator, set a sequence of extrapolators, i.e., (\"exponential\", \"linear\"), in ZneOptions. \n",
    "        Make sure to turn off any measurment twirling and measurement mitigation.\n",
    "        \n",
    "        Hint:\n",
    "            1. https://docs.quantum.ibm.com/api/qiskit-ibm-runtime/qiskit_ibm_runtime.options.EstimatorOptions\n",
    "            2. https://docs.quantum.ibm.com/api/qiskit-ibm-runtime/qiskit_ibm_runtime.options.ResilienceOptionsV2\n",
    "            3. https://docs.quantum.ibm.com/api/qiskit-ibm-runtime/qiskit_ibm_runtime.options.ZneOptions\n",
    "            4. https://docs.quantum.ibm.com/api/qiskit-ibm-runtime/qiskit_ibm_runtime.options.TwirlingOptions\n",
    "    \"\"\"\n",
    "    options_ex5.twirling.enable_gates = True\n",
    "    options_ex5.twirling.enable_measure = False\n",
    "    options_ex5.twirling.num_randomizations = 'auto'\n",
    "    options_ex5.twirling.shots_per_randomization = 'auto'\n",
    "    options_ex5.twirling.strategy = 'active-accum'\n",
    "    \n",
    "    options_ex5.resilience.zne_mitigation = True\n",
    "    options_ex5.resilience.zne.noise_factors = (1, 3, 5)\n",
    "    options_ex5.resilience.zne.extrapolator = (\"linear\", \"exponential\")\n",
    "    \n",
    "    estimator = Estimator(options=options_ex5)\n",
    "    job_ex5 = estimator.run(pubs=[pub])\n",
    "\n",
    "# Wait for next 3 jobs to complete. Fetch results when done\n",
    "# primitive_results.append(job_ex4a.result())\n",
    "# primitive_results.append(job_ex4b.result())\n",
    "# primitive_results.append(job_ex5.result())\n",
    "\n",
    "# Submit Exercise 6 in Job execution mode as it is a single job\n",
    "# Excercise-6: All\n",
    "options_ex6 = EstimatorOptions()\n",
    "options_ex6.default_shots = default_shots\n",
    "\"\"\"Your code goes here.\n",
    "    \n",
    "    Configure options to enable all suppression and mitigation options, i.e., DD, measurement mitigation,\n",
    "    gate twirling, and ZNE. Keep using the same sequence of extrapolators and noise factors from excercise-5 for ZNE.\n",
    "    \n",
    "    Hint:\n",
    "        1. https://docs.quantum.ibm.com/api/qiskit-ibm-runtime/qiskit_ibm_runtime.options.EstimatorOptions\n",
    "        2. https://docs.quantum.ibm.com/api/qiskit-ibm-runtime/qiskit_ibm_runtime.options.DynamicalDecouplingOptions\n",
    "        3. https://docs.quantum.ibm.com/run/configure-error-mitigation#configure-estimator-v2-with-resilience-levels\n",
    "\"\"\"\n",
    "\n",
    "options_ex6.dynamical_decoupling.enable = True\n",
    "options_ex6.dynamical_decoupling.sequence_type = 'XX'\n",
    "options_ex6.dynamical_decoupling.extra_slack_distribution = 'middle'\n",
    "options_ex6.dynamical_decoupling.scheduling_method = 'alap'\n",
    "    \n",
    "options_ex6.twirling.enable_gates = True\n",
    "options_ex6.twirling.enable_measure = True\n",
    "options_ex6.twirling.num_randomizations = 'auto'\n",
    "options_ex6.twirling.shots_per_randomization = 'auto'\n",
    "options_ex6.twirling.strategy = 'active-accum'\n",
    "\n",
    "options_ex6.resilience.measure_mitigation = True\n",
    "options_ex6.resilience.measure_noise_learning.num_randomizations = 32\n",
    "options_ex6.resilience.measure_noise_learning.shots_per_randomization = 'auto'\n",
    "\n",
    "\n",
    "options_ex6.resilience.zne_mitigation = True\n",
    "options_ex6.resilience.zne.noise_factors = (1, 3, 5)\n",
    "options_ex6.resilience.zne.extrapolator = (\"linear\", \"exponential\")\n",
    "# Note: explicitly set `mode=backend` in Job execution mode.\n",
    "# Inside Batch context manager, `Estimator` knows the context/backend implicitly\n",
    "# However, without the context manager, we must set `mode` explicitly\n",
    "estimator = Estimator(mode=backend, options=options_ex6)\n",
    "job_ex6 = estimator.run(pubs=[pub])\n",
    "# primitive_results.append(job_ex6.result())"
   ]
  },
  {
   "cell_type": "code",
   "execution_count": 40,
   "id": "cd2c6a52",
   "metadata": {},
   "outputs": [],
   "source": [
    "## Retrieve Results from IBM Kyoto\n",
    "[job_ex5, job_ex4b, job_ex4a] = service.jobs(session_id='ctgnf2cr4vc0008a2mw0')\n",
    "[job_ex3, job_ex2, job_ex1] = service.jobs(session_id='ctgneykq3n6g008fdy1g')\n",
    "job_ex6 = service.job('ctgnf649fby0008fkf10')\n",
    "\n",
    "# print(job_1, job_2, job_3, job_4a,job_4b, job_5, job_6)"
   ]
  },
  {
   "cell_type": "code",
   "execution_count": 41,
   "id": "6bd62e1e",
   "metadata": {},
   "outputs": [],
   "source": [
    "from qiskit.primitives import PubResult\n",
    "primitive_results: list[PubResult]=[]\n",
    "primitive_results.append(job_ex1.result())\n",
    "primitive_results.append(job_ex2.result())\n",
    "primitive_results.append(job_ex3.result())\n",
    "primitive_results.append(job_ex4a.result())\n",
    "primitive_results.append(job_ex4b.result())\n",
    "primitive_results.append(job_ex5.result())\n",
    "primitive_results.append(job_ex6.result())"
   ]
  },
  {
   "cell_type": "code",
   "execution_count": 14,
   "id": "4fe1f241",
   "metadata": {},
   "outputs": [
    {
     "name": "stdout",
     "output_type": "stream",
     "text": [
      "JobStatus.DONE JobStatus.DONE JobStatus.DONE JobStatus.DONE JobStatus.DONE JobStatus.DONE DONE\n"
     ]
    }
   ],
   "source": [
    "print(\n",
    "    job_ex1.status(),\n",
    "job_ex2.status(),\n",
    "job_ex3.status(),\n",
    "job_ex4a.status(),\n",
    "job_ex4b.status(),\n",
    "job_ex5.status(),\n",
    "job_ex6.status())"
   ]
  },
  {
   "cell_type": "code",
   "execution_count": 59,
   "id": "7739042a",
   "metadata": {},
   "outputs": [
    {
     "name": "stdout",
     "output_type": "stream",
     "text": [
      "{'dynamical_decoupling': {'enable': False, 'sequence_type': 'XX', 'extra_slack_distribution': 'middle', 'scheduling_method': 'alap'}, 'twirling': {'enable_gates': False, 'enable_measure': False, 'num_randomizations': 'auto', 'shots_per_randomization': 'auto', 'interleave_randomizations': True, 'strategy': 'active-accum'}, 'resilience': {'measure_mitigation': False, 'zne_mitigation': False, 'pec_mitigation': False}, 'version': 2}\n",
      "{'dynamical_decoupling': {'enable': True, 'sequence_type': 'XX', 'extra_slack_distribution': 'middle', 'scheduling_method': 'alap'}, 'twirling': {'enable_gates': False, 'enable_measure': True, 'num_randomizations': 'auto', 'shots_per_randomization': 'auto', 'interleave_randomizations': True, 'strategy': 'active-accum'}, 'resilience': {'measure_mitigation': True, 'zne_mitigation': False, 'pec_mitigation': False}, 'version': 2}\n",
      "{'dynamical_decoupling': {'enable': False, 'sequence_type': 'XX', 'extra_slack_distribution': 'middle', 'scheduling_method': 'alap'}, 'twirling': {'enable_gates': False, 'enable_measure': True, 'num_randomizations': 'auto', 'shots_per_randomization': 'auto', 'interleave_randomizations': True, 'strategy': 'active-accum'}, 'resilience': {'measure_mitigation': True, 'zne_mitigation': False, 'pec_mitigation': False}, 'version': 2}\n",
      "{'dynamical_decoupling': {'enable': False, 'sequence_type': 'XX', 'extra_slack_distribution': 'middle', 'scheduling_method': 'alap'}, 'twirling': {'enable_gates': False, 'enable_measure': True, 'num_randomizations': 'auto', 'shots_per_randomization': 'auto', 'interleave_randomizations': True, 'strategy': 'active-accum'}, 'resilience': {'measure_mitigation': True, 'zne_mitigation': True, 'pec_mitigation': False, 'zne': {'noise_factors': [1, 3, 5], 'extrapolator': 'exponential', 'extrapolated_noise_factors': [0, 1, 3, 5]}}, 'version': 2}\n",
      "[1.00017400e+00 1.05610338e+00 1.11730062e+00 8.96013270e-01\n",
      " 9.10293321e-01 9.13019812e-01 1.01285012e+00 1.03030895e+00\n",
      " 8.15716022e-01 9.63745390e-01 1.84502315e+00 1.68241732e+00\n",
      " 7.07620723e-01 1.03453514e+00 9.52080508e-01 7.83558148e-01\n",
      " 1.20502834e+00 1.22738945e+00 1.38117540e+00 8.96681596e-01\n",
      " 1.06797926e+00 1.20708810e+00 1.18364971e+00 1.43650880e+00\n",
      " 1.07229843e+00 1.06515270e+00 3.97941625e+02 6.78348442e+02\n",
      " 1.27111451e+00 1.11275354e+03 9.97896358e-01 1.55690669e+00\n",
      " 9.93266978e-01 9.76968677e-01 1.00019261e+00 1.04112046e+00\n",
      " 9.88873385e-01 9.34843057e-01 9.63891848e-01 9.83945239e-01\n",
      " 9.78978116e-01 9.14914537e-01 9.56876302e-01 1.08940072e+00\n",
      " 1.10975442e+00 1.18579545e+00 9.31690548e-01 1.02395210e+00\n",
      " 1.00756312e+03 8.42913801e-01]\n",
      "[0.83040632 0.92736264 0.87257484 0.81430609 0.90422562 0.85165081\n",
      " 0.94362813 0.98027965 0.74686539 0.87130028 0.87908238 0.88698342\n",
      " 0.64784775 0.91329228 0.69469637 0.66039893 0.68441732 0.67615446\n",
      " 0.5923862  0.64796499 0.81481664 0.88049241 0.90218104 0.89167126\n",
      " 0.96667996 0.90578564 0.77590842 0.87108202 0.90540162 0.74366446\n",
      " 0.6203953  0.84751229 0.82798537 0.93887557 0.84875037 0.88083542\n",
      " 0.9218357  0.91006826 0.92893517 0.91772702 0.95590131 0.88353374\n",
      " 0.91180586 0.99034898 0.94548798 0.96752101 0.84757456 0.80014362\n",
      " 0.52785482 0.8883148 ]\n",
      "{'dynamical_decoupling': {'enable': False, 'sequence_type': 'XX', 'extra_slack_distribution': 'middle', 'scheduling_method': 'alap'}, 'twirling': {'enable_gates': False, 'enable_measure': True, 'num_randomizations': 'auto', 'shots_per_randomization': 'auto', 'interleave_randomizations': True, 'strategy': 'active-accum'}, 'resilience': {'measure_mitigation': True, 'zne_mitigation': True, 'pec_mitigation': False, 'zne': {'noise_factors': [1, 3, 5], 'extrapolator': 'linear', 'extrapolated_noise_factors': [0, 1, 3, 5]}}, 'version': 2}\n",
      "{'dynamical_decoupling': {'enable': False, 'sequence_type': 'XX', 'extra_slack_distribution': 'middle', 'scheduling_method': 'alap'}, 'twirling': {'enable_gates': True, 'enable_measure': True, 'num_randomizations': 'auto', 'shots_per_randomization': 'auto', 'interleave_randomizations': True, 'strategy': 'active-accum'}, 'resilience': {'measure_mitigation': True, 'zne_mitigation': True, 'pec_mitigation': False, 'zne': {'noise_factors': [1, 3, 5], 'extrapolator': ['linear', 'exponential'], 'extrapolated_noise_factors': [0, 1, 3, 5]}}, 'version': 2}\n",
      "{'dynamical_decoupling': {'enable': True, 'sequence_type': 'XX', 'extra_slack_distribution': 'middle', 'scheduling_method': 'alap'}, 'twirling': {'enable_gates': True, 'enable_measure': True, 'num_randomizations': 'auto', 'shots_per_randomization': 'auto', 'interleave_randomizations': True, 'strategy': 'active-accum'}, 'resilience': {'measure_mitigation': True, 'zne_mitigation': True, 'pec_mitigation': False, 'zne': {'noise_factors': [1, 3, 5], 'extrapolator': ['linear', 'exponential'], 'extrapolated_noise_factors': [0, 1, 3, 5]}}, 'version': 2}\n"
     ]
    }
   ],
   "source": [
    "# print(primitive_results[0][0].data.evs)\n",
    "print(primitive_results[0].metadata)\n",
    "print(primitive_results[1].metadata)\n",
    "print(primitive_results[2].metadata)\n",
    "print(primitive_results[3].metadata)\n",
    "print(primitive_results[3][0].data.evs)\n",
    "print(primitive_results[4][0].data.evs)\n",
    "print(primitive_results[4].metadata)\n",
    "print(primitive_results[5].metadata)\n",
    "print(primitive_results[6].metadata)"
   ]
  },
  {
   "cell_type": "markdown",
   "id": "8d61e0fc-e0c4-4cbd-81ff-69282c5f6c21",
   "metadata": {},
   "source": [
    "### Analyze"
   ]
  },
  {
   "cell_type": "markdown",
   "id": "f75dc381-c4ef-4cec-bdca-ceca13092506",
   "metadata": {},
   "source": [
    "1. Each [`PrimtiveResult`](https://docs.quantum.ibm.com/api/qiskit/qiskit.primitives.PrimitiveResult) will have a list-like structure with a single [`PubResult`](https://docs.quantum.ibm.com/api/qiskit/qiskit.primitives.PubResult) (as we submitted a single PUB).\n",
    "   - The `PubResult` will contain an array of expectation values each corresponding to an observable inside its [`data`](https://docs.quantum.ibm.com/api/qiskit/qiskit.primitives.DataBin) container (`pub_result.data.evs`). For each qubit in the `abstract_circuit`, we have one weight-1 $\\langle Z \\rangle$ observable.\n",
    "2. Compute the average of expectation values in each `PubResult`.\n",
    "3. Plot (bar chart) average expectation values and analyze how different error suppression and mitigation methods are improving results. Note that due the compute-uncompute structure of the circuit, the ideal average expecation value is $1.0$ for each job respectively. \n",
    "\n",
    "Now, try to understand the results based on the knowledge from the lecture. We suggest looking at the structure of the circuit by following one of the visualization methods described [here](https://docs.quantum.ibm.com/build/circuit-visualization)."
   ]
  },
  {
   "cell_type": "code",
   "execution_count": 64,
   "id": "ecc98782-10c6-4fb1-b143-a5ad50e8f5e8",
   "metadata": {},
   "outputs": [
    {
     "data": {
      "image/png": "[encoded data removed]",
      "text/plain": [
       "<Figure size 640x480 with 1 Axes>"
      ]
     },
     "metadata": {},
     "output_type": "display_data"
    }
   ],
   "source": [
    "#Your code for analyzing results goes here\n",
    "\n",
    "import matplotlib.pyplot as plt\n",
    "fig, ax = plt.subplots()\n",
    "\n",
    "def average_results (array: list):\n",
    "    sum=0\n",
    "    for i in array:\n",
    "        # process to control the values because the 4a (ZNE exponential) method exploded\n",
    "        if(i>=1e2):\n",
    "            i = 0\n",
    "        sum+=i\n",
    "    average = sum/len(array)\n",
    "    return average\n",
    "\n",
    "x_axis_labels = ['No Mitigaton', 'Dynamic Decoupling', 'Measure Mitigation', 'ZNE Exp', 'ZNE Lin', 'Gate Twirling + ZNE', 'All']\n",
    "data = [average_results(i[0].data.evs) for i in primitive_results]\n",
    "\n",
    "ax.bar(x_axis_labels, data)\n",
    "plt.xticks(x_axis_labels, fontsize=\"7\", rotation=45)\n",
    "ax.set_ylabel('Expected Value')\n",
    "ax.set_title('IBM Kyoto')\n",
    "\n",
    "plt.show()"
   ]
  },
  {
   "cell_type": "code",
   "execution_count": 30,
   "id": "e1002c8d-bb39-43d0-92e0-486e7669f04f",
   "metadata": {},
   "outputs": [
    {
     "data": {
      "text/html": [
       "<div style='width: 100%; background-color:#d5d9e0;padding-left: 10px; padding-bottom: 10px; padding-right: 10px; padding-top: 5px'><p>&copy; Copyright IBM 2017, 2024.</p><p>This code is licensed under the Apache License, Version 2.0. You may<br>obtain a copy of this license in the LICENSE.txt file in the root directory<br> of this source tree or at http://www.apache.org/licenses/LICENSE-2.0.<p>Any modifications or derivative works of this code must retain this<br>copyright notice, and modified files need to carry a notice indicating<br>that they have been altered from the originals.</p></div>"
      ],
      "text/plain": [
       "<IPython.core.display.HTML object>"
      ]
     },
     "metadata": {},
     "output_type": "display_data"
    }
   ],
   "source": [
    "import datetime\n",
    "from IPython.display import HTML, display\n",
    "\n",
    "\n",
    "def qiskit_copyright(line=\"\", cell=None):\n",
    "    \"\"\"IBM copyright\"\"\"\n",
    "    now = datetime.datetime.now()\n",
    "\n",
    "    html = \"<div style='width: 100%; background-color:#d5d9e0;\"\n",
    "    html += \"padding-left: 10px; padding-bottom: 10px; padding-right: 10px; padding-top: 5px'>\"\n",
    "    html += \"<p>&copy; Copyright IBM 2017, %s.</p>\" % now.year\n",
    "    html += \"<p>This code is licensed under the Apache License, Version 2.0. You may<br>\"\n",
    "    html += \"obtain a copy of this license in the LICENSE.txt file in the root directory<br> \"\n",
    "    html += \"of this source tree or at http://www.apache.org/licenses/LICENSE-2.0.\"\n",
    "\n",
    "    html += \"<p>Any modifications or derivative works of this code must retain this<br>\"\n",
    "    html += \"copyright notice, and modified files need to carry a notice indicating<br>\"\n",
    "    html += \"that they have been altered from the originals.</p>\"\n",
    "    html += \"</div>\"\n",
    "    return display(HTML(html))\n",
    "\n",
    "\n",
    "qiskit_copyright()"
   ]
  },
  {
   "cell_type": "code",
   "execution_count": null,
   "id": "55e16b62",
   "metadata": {},
   "outputs": [],
   "source": []
  }
 ],
 "metadata": {
  "kernelspec": {
   "display_name": "Python 3",
   "language": "python",
   "name": "python3"
  },
  "language_info": {
   "codemirror_mode": {
    "name": "ipython",
    "version": 3
   },
   "file_extension": ".py",
   "mimetype": "text/x-python",
   "name": "python",
   "nbconvert_exporter": "python",
   "pygments_lexer": "ipython3",
   "version": "3.10.5"
  }
 },
 "nbformat": 4,
 "nbformat_minor": 5
}
